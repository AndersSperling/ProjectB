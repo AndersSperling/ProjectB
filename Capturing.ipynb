version https://git-lfs.github.com/spec/v1
oid sha256:c064b4cc8e3dc24bfd64070cbc1bb64786283dfa0ab9db1c735bcedf9bc09949
size 992
