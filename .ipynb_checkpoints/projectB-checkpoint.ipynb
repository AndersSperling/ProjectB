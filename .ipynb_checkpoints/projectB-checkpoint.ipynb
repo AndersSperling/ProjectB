version https://git-lfs.github.com/spec/v1
oid sha256:cccd41a2843c73da62493139cce632b2e00190f8ecfa292646ce1a72639e0ac1
size 228516
