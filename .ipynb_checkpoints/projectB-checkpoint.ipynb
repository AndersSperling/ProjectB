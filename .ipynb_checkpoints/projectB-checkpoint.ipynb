version https://git-lfs.github.com/spec/v1
oid sha256:4abd3f1438a15126acf2d1c400290cb29fcebf55f449df571be92dac4a376d8f
size 238189
