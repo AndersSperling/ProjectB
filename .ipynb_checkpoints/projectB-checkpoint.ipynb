version https://git-lfs.github.com/spec/v1
oid sha256:e447caaa2a7bdf62336e073c5339b909d7564d2ee7b590143433bbce85911d9d
size 277645
