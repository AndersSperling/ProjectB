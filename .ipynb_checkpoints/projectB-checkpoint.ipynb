version https://git-lfs.github.com/spec/v1
oid sha256:15d5434a3db2681060e98c43c15b904597ac287b0b1a536ec634752f4edd287c
size 275129
