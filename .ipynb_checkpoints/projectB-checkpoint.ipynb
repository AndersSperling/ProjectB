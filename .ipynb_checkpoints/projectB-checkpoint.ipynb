version https://git-lfs.github.com/spec/v1
oid sha256:fea939cd8f76f6fea9fa4afd6ae8fc6d27e5f077ed39eba2c3f8c1842e334e2f
size 235497
