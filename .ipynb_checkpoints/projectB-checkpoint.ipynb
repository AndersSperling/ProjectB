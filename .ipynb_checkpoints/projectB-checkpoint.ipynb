version https://git-lfs.github.com/spec/v1
oid sha256:d3b0edf9c9cf79ca7f27f633a6e3d1be2dfbd506cbc346b80cd829fefbc5e5d3
size 22890
