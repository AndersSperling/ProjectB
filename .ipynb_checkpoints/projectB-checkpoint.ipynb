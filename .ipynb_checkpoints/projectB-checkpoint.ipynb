version https://git-lfs.github.com/spec/v1
oid sha256:8975bbba4f8b36ce366090cfbe91966b67fcb57df5903a43922a56cf54adf9f7
size 761
