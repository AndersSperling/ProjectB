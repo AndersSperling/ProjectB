version https://git-lfs.github.com/spec/v1
oid sha256:c047e722bf9a6af79666a965346cbfccf233b4f3620bf0daca4e39f6c41617cc
size 841632
