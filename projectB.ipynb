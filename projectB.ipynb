version https://git-lfs.github.com/spec/v1
oid sha256:0a1658ed8bb36b7988cc6dcdad30080f45ea16306280645cda7fecf9faf17f25
size 238189
