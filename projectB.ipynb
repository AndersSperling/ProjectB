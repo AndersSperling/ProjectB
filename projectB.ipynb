version https://git-lfs.github.com/spec/v1
oid sha256:acc2702f417bcda247242b10b587dc3248e9557c1ea13f8f5c3325f5247453ad
size 5695
