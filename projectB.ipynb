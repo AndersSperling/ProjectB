version https://git-lfs.github.com/spec/v1
oid sha256:573530aff541d56b37ed0f30bcb598a947fbe7607be1a0ffd10ff2fee7f81c18
size 259997
