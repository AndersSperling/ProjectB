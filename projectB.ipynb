version https://git-lfs.github.com/spec/v1
oid sha256:fb8d400ef3291993c5e20032e91afe9f0d335a59903cad7db4b1d4fb6a3a456e
size 235150
