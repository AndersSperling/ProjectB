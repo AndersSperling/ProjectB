version https://git-lfs.github.com/spec/v1
oid sha256:0ae5ed27a0f45d2ec27841b83b7cdf835650c25f6a0aeb5a3d8c19a755675ecf
size 841822
